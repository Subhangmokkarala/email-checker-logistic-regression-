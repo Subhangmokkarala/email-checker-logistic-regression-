import numpy as np
from sklearn.linear_model import LogisticRegression

# Generate some example data
inputs = ['abc', 'abcd', 'abcde', 'example.com', 'jane.doe@example.com', 'foobar']

# Create feature matrix (X) and target variable (y)
X = np.array([[len(input_string), '.' in input_string] for input_string in inputs])
y = np.array([0, 0, 0, 0, 1, 0]) # 1 = email, 0 = not email

# Train logistic regression model
lr = LogisticRegression()
lr.fit(X, y)

# Test the model on some new inputs
new_inputs = ['john.doe@example.com', '12345', 'example', 'example.com', 'abcdefghijk']
new_X = np.array([[len(input_string), '.' in input_string] for input_string in new_inputs])
predictions = lr.predict(new_X)

# Print the predictions
for i, input_string in enumerate(new_inputs):
    if predictions[i] == 1:
        print(f"{input_string} is an email")
    else:
        print(f"{input_string} is not an email")
